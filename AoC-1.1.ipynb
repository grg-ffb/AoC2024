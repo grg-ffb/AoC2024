{
 "cells": [
  {
   "cell_type": "code",
   "execution_count": 1,
   "metadata": {},
   "outputs": [],
   "source": [
    "import pandas as pd"
   ]
  },
  {
   "cell_type": "code",
   "execution_count": 35,
   "metadata": {},
   "outputs": [
    {
     "name": "stdout",
     "output_type": "stream",
     "text": [
      "1873376\n"
     ]
    },
    {
     "name": "stderr",
     "output_type": "stream",
     "text": [
      "/var/folders/8x/zcty58m564b9pb5gvnxhhptm0000gn/T/ipykernel_5866/4056677515.py:2: ParserWarning: Falling back to the 'python' engine because the 'c' engine does not support regex separators (separators > 1 char and different from '\\s+' are interpreted as regex); you can avoid this warning by specifying engine='python'.\n",
      "  df = pd.read_csv(filepath, delimiter='   ', names=['A','B'], dtype={'A': int, 'B': int})\n"
     ]
    }
   ],
   "source": [
    "def read_data(filepath):\n",
    "    df = pd.read_csv(filepath, delimiter='   ', names=['A','B'], dtype={'A': int, 'B': int})\n",
    "    return df\n",
    "\n",
    "data = read_data('./input.txt')\n",
    "\n",
    "data['A'] = data.A.sort_values(ascending=True, ignore_index=True)\n",
    "data['B'] = data.B.sort_values(ascending=True, ignore_index=True)\n",
    "\n",
    "data['Distance'] = data.A - data.B\n",
    "\n",
    "print(data.Distance.abs().sum())\n",
    "\n"
   ]
  }
 ],
 "metadata": {
  "kernelspec": {
   "display_name": "Python 3",
   "language": "python",
   "name": "python3"
  },
  "language_info": {
   "codemirror_mode": {
    "name": "ipython",
    "version": 3
   },
   "file_extension": ".py",
   "mimetype": "text/x-python",
   "name": "python",
   "nbconvert_exporter": "python",
   "pygments_lexer": "ipython3",
   "version": "3.12.3"
  }
 },
 "nbformat": 4,
 "nbformat_minor": 2
}
