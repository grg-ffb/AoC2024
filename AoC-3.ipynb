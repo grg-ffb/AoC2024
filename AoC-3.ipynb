{
 "cells": [
  {
   "cell_type": "code",
   "execution_count": 73,
   "metadata": {},
   "outputs": [
    {
     "name": "stdout",
     "output_type": "stream",
     "text": [
      "113965544\n"
     ]
    }
   ],
   "source": [
    "import re\n",
    "\n",
    "values=[]\n",
    "result = 0\n",
    "pattern = re.compile(r'mul\\(\\d+,\\d+\\)')\n",
    "numbers = re.compile(r'\\d+')\n",
    "with open('input3.txt', 'r') as f:\n",
    "    corrupted_memory = f.read()\n",
    "    valid_instructions = re.sub(r\"don't().*?(?=do\\(\\)|$)\", '', corrupted_memory, flags=re.DOTALL)\n",
    "    mul_instructions = pattern.findall(valid_instructions)\n",
    "\n",
    "    for instruction in mul_instructions:\n",
    "        values = numbers.findall(instruction)\n",
    "        result += int(values[0])*int(values[1])\n",
    "print(result)\n"
   ]
  }
 ],
 "metadata": {
  "kernelspec": {
   "display_name": "graphDataScienceExploration",
   "language": "python",
   "name": "python3"
  },
  "language_info": {
   "codemirror_mode": {
    "name": "ipython",
    "version": 3
   },
   "file_extension": ".py",
   "mimetype": "text/x-python",
   "name": "python",
   "nbconvert_exporter": "python",
   "pygments_lexer": "ipython3",
   "version": "3.12.3"
  }
 },
 "nbformat": 4,
 "nbformat_minor": 2
}
