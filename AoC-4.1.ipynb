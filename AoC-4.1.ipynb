{
 "cells": [
  {
   "cell_type": "code",
   "execution_count": 27,
   "metadata": {},
   "outputs": [
    {
     "name": "stdout",
     "output_type": "stream",
     "text": [
      "2583\n"
     ]
    }
   ],
   "source": [
    "import numpy as np\n",
    "\n",
    "def findXMAS(string):\n",
    "    return string.count('XMAS')+string.count('SAMX')\n",
    "\n",
    "def create_diagonals(array: np.array):\n",
    "    x, y = array.shape\n",
    "    diagonals = []\n",
    "    rot_array = np.rot90(array)\n",
    "    for i in range(-x, x):\n",
    "        diagonals.append(''.join(np.diag(array, i)))\n",
    "        diagonals.append(''.join(np.diag(rot_array, i)))\n",
    "    \n",
    "    rot_array = np.rot90(array)\n",
    "\n",
    "\n",
    "    \n",
    "    return diagonals\n",
    "\n",
    "xmas_text=[]\n",
    "result = 0\n",
    "\n",
    "input = np.loadtxt('./input4.txt', dtype=str)\n",
    "for word in input:\n",
    "    xmas_text.append(list(word))\n",
    "\n",
    "\n",
    "xmas_array = np.array(xmas_text)\n",
    "# Create separate strings for each row, column and diagonal of the array\n",
    "xmas_strings_h = np.apply_along_axis(lambda x: ''.join(x), 1, xmas_array)\n",
    "xmas_strings_v = np.apply_along_axis(lambda x: ''.join(x), 0, xmas_array)\n",
    "xmas_strings_d = create_diagonals(xmas_array)\n",
    "\n",
    "\n",
    "for string in xmas_strings_h:\n",
    "    result += findXMAS(string)\n",
    "for string in xmas_strings_v:\n",
    "    result += findXMAS(string)\n",
    "for string in xmas_strings_d:\n",
    "    result += findXMAS(string)\n",
    "\n",
    "print(result)"
   ]
  }
 ],
 "metadata": {
  "kernelspec": {
   "display_name": "graphDataScienceExploration",
   "language": "python",
   "name": "python3"
  },
  "language_info": {
   "codemirror_mode": {
    "name": "ipython",
    "version": 3
   },
   "file_extension": ".py",
   "mimetype": "text/x-python",
   "name": "python",
   "nbconvert_exporter": "python",
   "pygments_lexer": "ipython3",
   "version": "3.12.3"
  }
 },
 "nbformat": 4,
 "nbformat_minor": 2
}
