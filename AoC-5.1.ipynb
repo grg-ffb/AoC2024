{
 "cells": [
  {
   "cell_type": "code",
   "execution_count": 37,
   "metadata": {},
   "outputs": [
    {
     "name": "stdout",
     "output_type": "stream",
     "text": [
      "143\n"
     ]
    }
   ],
   "source": [
    "import re\n",
    "\n",
    "rules = []\n",
    "updates = []\n",
    "\n",
    "def checkRule(rule: list, update: list):\n",
    "    update_string = ','.join(update)\n",
    "    try:\n",
    "        index_value_a = update.index(rule[0])\n",
    "        index_value_b = update.index(rule[1])\n",
    "        #print('index_a: ' + str(index_value_a))\n",
    "        #print('index_b: ' + str(index_value_b))\n",
    "\n",
    "        if index_value_a < index_value_b:\n",
    "            #print('rule fullfilled')\n",
    "            return True\n",
    "        else:\n",
    "            return False\n",
    "\n",
    "    except ValueError as e:\n",
    "        #print('rule does not apply')\n",
    "        return True        \n",
    "    return True\n",
    "\n",
    "def checkUpdate(rules: list, update: list):\n",
    "    update_verification = True\n",
    "    for rule in rules:\n",
    "        update_verification = update_verification & checkRule(rule, update)\n",
    "    return update_verification\n",
    "\n",
    "\n",
    "def findMiddle(input_list):\n",
    "    middle = float(len(input_list))/2\n",
    "    if middle % 2 != 0:\n",
    "        return input_list[int(middle - .5)]\n",
    "    else:\n",
    "        return (input_list[int(middle)], input_list[int(middle-1)])\n",
    "\n",
    "def fixUpdate(rule: list, update: list):\n",
    "    fixed_update = update.copy()\n",
    "    fixed_update.remove(rule[0])\n",
    "    fixed_update.remove(rule[1])\n",
    "    fixed_update.append(rule)\n",
    "    return fixed_update\n",
    "\n",
    "\n",
    "\n",
    "with open ('./test.txt', 'r') as f:\n",
    "    for line in f:\n",
    "        #print(line)\n",
    "        if '|' in line:\n",
    "            rules.append(line.rstrip().split('|'))\n",
    "        elif ',' in line:\n",
    "            updates.append(line.rstrip().split(','))\n",
    "\n",
    "\n",
    "sum_middle_good_updates = 0\n",
    "for update in updates:\n",
    "    if checkUpdate(rules, update):\n",
    "        sum_middle_good_updates += int(findMiddle(update))\n",
    "\n",
    "print(sum_middle_good_updates)\n",
    "\n",
    "#print(rules)\n",
    "#print(updates)"
   ]
  },
  {
   "cell_type": "code",
   "execution_count": null,
   "metadata": {},
   "outputs": [],
   "source": []
  }
 ],
 "metadata": {
  "kernelspec": {
   "display_name": "graphDataScienceExploration",
   "language": "python",
   "name": "python3"
  },
  "language_info": {
   "codemirror_mode": {
    "name": "ipython",
    "version": 3
   },
   "file_extension": ".py",
   "mimetype": "text/x-python",
   "name": "python",
   "nbconvert_exporter": "python",
   "pygments_lexer": "ipython3",
   "version": "3.12.3"
  }
 },
 "nbformat": 4,
 "nbformat_minor": 2
}
