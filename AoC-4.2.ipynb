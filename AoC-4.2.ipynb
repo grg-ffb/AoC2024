{
 "cells": [
  {
   "cell_type": "code",
   "execution_count": 10,
   "metadata": {},
   "outputs": [
    {
     "name": "stdout",
     "output_type": "stream",
     "text": [
      "1978\n"
     ]
    }
   ],
   "source": [
    "import numpy as np\n",
    "\n",
    "def findXMAS(string):\n",
    "    return string.count('XMAS')+string.count('SAMX')\n",
    "\n",
    "def create_diagonals(array: np.array):\n",
    "    x, y = array.shape\n",
    "    diagonals = []\n",
    "    rot_array = np.rot90(array)\n",
    "    for i in range(-x, x):\n",
    "        diagonals.append(''.join(np.diag(array, i)))\n",
    "        diagonals.append(''.join(np.diag(rot_array, i)))\n",
    "    \n",
    "    rot_array = np.rot90(array)\n",
    "\n",
    "\n",
    "    \n",
    "    return diagonals\n",
    "\n",
    "xmas_text=[]\n",
    "result = 0\n",
    "\n",
    "input = np.loadtxt('./input4.txt', dtype=str)\n",
    "for word in input:\n",
    "    xmas_text.append(list(word))\n",
    "\n",
    "\n",
    "xmas_array = np.array(xmas_text)\n",
    "\n",
    "x, y = xmas_array.shape\n",
    "\n",
    "for i in range(0, x-2):\n",
    "    for j in range(0, y-2):\n",
    "        mas_x = [''.join([xmas_array[i][j],xmas_array[i+1][j+1],xmas_array[i+2][j+2]]),\n",
    "        ''.join([xmas_array[i+2][j],xmas_array[i+1][j+1],xmas_array[i][j+2]])]\n",
    "        if (mas_x[0] in ['MAS','SAM']) & (mas_x[1] in ['MAS','SAM']):\n",
    "            result +=1\n",
    "\n",
    "\n",
    "print(result)"
   ]
  },
  {
   "cell_type": "code",
   "execution_count": null,
   "metadata": {},
   "outputs": [],
   "source": []
  }
 ],
 "metadata": {
  "kernelspec": {
   "display_name": "graphDataScienceExploration",
   "language": "python",
   "name": "python3"
  },
  "language_info": {
   "codemirror_mode": {
    "name": "ipython",
    "version": 3
   },
   "file_extension": ".py",
   "mimetype": "text/x-python",
   "name": "python",
   "nbconvert_exporter": "python",
   "pygments_lexer": "ipython3",
   "version": "3.12.3"
  }
 },
 "nbformat": 4,
 "nbformat_minor": 2
}
