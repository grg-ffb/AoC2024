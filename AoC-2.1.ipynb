{
 "cells": [
  {
   "cell_type": "code",
   "execution_count": 69,
   "metadata": {},
   "outputs": [
    {
     "name": "stdout",
     "output_type": "stream",
     "text": [
      "306\n"
     ]
    }
   ],
   "source": [
    "line_count = 0\n",
    "\n",
    "with open('input2.txt', 'r') as f:\n",
    "   for line in f:\n",
    "        values = line.split()\n",
    "\n",
    "        direction = ''\n",
    "        if len(values) < 2:\n",
    "            print('line to short')\n",
    "            break\n",
    "        \n",
    "        line_ok = True\n",
    "        line_ok = line_ok & verify_stable_line_direction(values)\n",
    "        line_ok = line_ok & verify_stepsize(values)\n",
    "        #print('line: ' + str(line_ok))\n",
    "        if line_ok == True:\n",
    "            line_count +=1\n",
    "            \n",
    "    \n",
    "print(line_count)"
   ]
  },
  {
   "cell_type": "code",
   "execution_count": 68,
   "metadata": {},
   "outputs": [],
   "source": [
    "def check_direction(value_a: int, value_b: int):\n",
    "    #print('value_a: ' + str(value_a) + ' value_b: ' + str(value_b))\n",
    "    if int(value_a) < int(value_b):\n",
    "        #print('ascending')\n",
    "        return 'ascending'\n",
    "    elif int(value_a) > int(value_b):\n",
    "        #print('descending')\n",
    "        return 'descending'\n",
    "    else:\n",
    "        #print('error')\n",
    "        return 'error'\n",
    "\n",
    "def verify_stable_line_direction(values: list):\n",
    "    line_ok = True\n",
    "    direction = check_direction(values[0], values[1])\n",
    "    for i in range(len(values) - 1):\n",
    "        direction_new = check_direction(values[i], values[i + 1])\n",
    "        if direction_new != direction:\n",
    "            line_ok = False\n",
    "            break\n",
    "    #print('line direction is: ' + str(line_ok))\n",
    "    return line_ok\n",
    "\n",
    "def verify_stepsize(values: list):\n",
    "    line_ok = True\n",
    "    for i in range(len(values) - 1):\n",
    "        stepsize = int(values[i])-int(values[i+1])\n",
    "        stepsize = abs(stepsize)\n",
    "        if stepsize > 3 or stepsize == 0:\n",
    "            line_ok = False\n",
    "            break\n",
    "    #print('stepsize is: ' + str(line_ok))\n",
    "    return line_ok"
   ]
  },
  {
   "cell_type": "code",
   "execution_count": 59,
   "metadata": {},
   "outputs": [
    {
     "name": "stdout",
     "output_type": "stream",
     "text": [
      "value_a: 9 value_b: 11\n",
      "descending\n"
     ]
    },
    {
     "data": {
      "text/plain": [
       "'descending'"
      ]
     },
     "execution_count": 59,
     "metadata": {},
     "output_type": "execute_result"
    }
   ],
   "source": [
    "check_direction('9', '11')"
   ]
  }
 ],
 "metadata": {
  "kernelspec": {
   "display_name": "graphDataScienceExploration",
   "language": "python",
   "name": "python3"
  },
  "language_info": {
   "codemirror_mode": {
    "name": "ipython",
    "version": 3
   },
   "file_extension": ".py",
   "mimetype": "text/x-python",
   "name": "python",
   "nbconvert_exporter": "python",
   "pygments_lexer": "ipython3",
   "version": "3.12.3"
  }
 },
 "nbformat": 4,
 "nbformat_minor": 2
}
